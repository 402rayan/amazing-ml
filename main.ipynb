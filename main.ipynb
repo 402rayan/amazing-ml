{
 "cells": [
  {
   "cell_type": "markdown",
   "metadata": {},
   "source": [
    "# Main "
   ]
  },
  {
   "cell_type": "markdown",
   "metadata": {},
   "source": [
    "## Initialisation "
   ]
  },
  {
   "cell_type": "markdown",
   "metadata": {},
   "source": [
    "### Import des librairies"
   ]
  },
  {
   "cell_type": "code",
   "execution_count": 114,
   "metadata": {},
   "outputs": [],
   "source": [
    "import pandas as pd # Pour manipuler des dataframes\n",
    "import numpy as np # Pour manipuler des arrays\n",
    "import matplotlib.pyplot as plt # Pour afficher des graphiques\n",
    "import seaborn as sns # Pour améliorer l'affichage des graphiques"
   ]
  },
  {
   "cell_type": "markdown",
   "metadata": {},
   "source": [
    "### Import des données"
   ]
  },
  {
   "cell_type": "code",
   "execution_count": 115,
   "metadata": {},
   "outputs": [
    {
     "name": "stdout",
     "output_type": "stream",
     "text": [
      "                event_time event_type  product_id          category_id                        category_code     brand    price    user_id                          user_session\n",
      "0  2019-10-01 00:00:00 UTC       view    44600062  2103807459595387724                                  NaN  shiseido    35.79  541312140  72d76fde-8bb3-4e00-8c23-a032dfed738c\n",
      "1  2019-10-01 00:00:00 UTC       view     3900821  2053013552326770905  appliances.environment.water_heater      aqua    33.20  554748717  9333dfbd-b87a-4708-9857-6336556b0fcc\n",
      "2  2019-10-01 00:00:01 UTC       view    17200506  2053013559792632471           furniture.living_room.sofa       NaN   543.10  519107250  566511c2-e2e3-422b-b695-cf8e6e792ca8\n",
      "3  2019-10-01 00:00:01 UTC       view     1307067  2053013558920217191                   computers.notebook    lenovo   251.74  550050854  7c90fc70-0e80-4590-96f3-13c02c18c713\n",
      "4  2019-10-01 00:00:04 UTC       view     1004237  2053013555631882655               electronics.smartphone     apple  1081.98  535871217  c6bd7419-2748-4c56-95b4-8cec9ff8b80d\n"
     ]
    }
   ],
   "source": [
    "# Paramètres\n",
    "nbLignes = 2000000\n",
    "pd.set_option('display.max_columns', None)\n",
    "pd.set_option('display.max_rows', None)\n",
    "pd.set_option('display.width', 200)\n",
    "\n",
    "# noms fichiers\n",
    "donneesOctobre2019 = \"2019-Oct.csv.gz\"\n",
    "\n",
    "# Chargement des données\n",
    "df = pd.read_csv(donneesOctobre2019, nrows=nbLignes)\n",
    "print(df.head())"
   ]
  },
  {
   "cell_type": "markdown",
   "metadata": {},
   "source": [
    "### Préparation des données"
   ]
  },
  {
   "cell_type": "code",
   "execution_count": 116,
   "metadata": {},
   "outputs": [
    {
     "name": "stdout",
     "output_type": "stream",
     "text": [
      "                 event_time event_type  product_id          category_id                        category_code    brand    price    user_id                          user_session\n",
      "1 2019-10-01 00:00:00+00:00       view     3900821  2053013552326770905  appliances.environment.water_heater     aqua    33.20  554748717  9333dfbd-b87a-4708-9857-6336556b0fcc\n",
      "2 2019-10-01 00:00:01+00:00       view    17200506  2053013559792632471           furniture.living_room.sofa  unknown   543.10  519107250  566511c2-e2e3-422b-b695-cf8e6e792ca8\n",
      "3 2019-10-01 00:00:01+00:00       view     1307067  2053013558920217191                   computers.notebook   lenovo   251.74  550050854  7c90fc70-0e80-4590-96f3-13c02c18c713\n",
      "4 2019-10-01 00:00:04+00:00       view     1004237  2053013555631882655               electronics.smartphone    apple  1081.98  535871217  c6bd7419-2748-4c56-95b4-8cec9ff8b80d\n",
      "5 2019-10-01 00:00:05+00:00       view     1480613  2053013561092866779                    computers.desktop   pulser   908.62  512742880  0d0d91c2-c9c2-4e81-90a5-86594dec0db9\n"
     ]
    }
   ],
   "source": [
    "# Prépration des données\n",
    "\n",
    "# On convertit la colonne 'event_time' en datetime\n",
    "df['event_time'] = pd.to_datetime(df['event_time'])\n",
    "\n",
    "# On supprime les lignes avec des valeurs manquantes dans les colonnes 'price', 'category_code' et 'user_id'\n",
    "df.dropna(subset=['price', 'category_code', 'user_id'], inplace=True)\n",
    "\n",
    "# Si brand est manquant ou égal à \"NaN\" on le remplace par la valeur \"unknown\"\n",
    "df['brand'] = df['brand'].replace(np.nan, 'unknown')\n",
    "\n",
    "print(df.head(5))"
   ]
  },
  {
   "cell_type": "markdown",
   "metadata": {},
   "source": [
    "#### Vérification des valeurs manquantes / nulls / nan"
   ]
  },
  {
   "cell_type": "code",
   "execution_count": 117,
   "metadata": {},
   "outputs": [
    {
     "name": "stdout",
     "output_type": "stream",
     "text": [
      "\n",
      "Nombre de valeurs Null :\n",
      "\n",
      " event_time       0\n",
      "event_type       0\n",
      "product_id       0\n",
      "category_id      0\n",
      "category_code    0\n",
      "brand            0\n",
      "price            0\n",
      "user_id          0\n",
      "user_session     0\n",
      "dtype: int64\n",
      "\n",
      "Nombre de valeurs Nan :\n",
      "\n",
      " event_time       0\n",
      "event_type       0\n",
      "product_id       0\n",
      "category_id      0\n",
      "category_code    0\n",
      "brand            0\n",
      "price            0\n",
      "user_id          0\n",
      "user_session     0\n",
      "dtype: int64\n"
     ]
    }
   ],
   "source": [
    "# Afficher le nombre de valeurs manquantes par colonne\n",
    "print(\"\\nNombre de valeurs Null :\\n\\n\", df.isnull().sum())\n",
    "\n",
    "# Afficher le nombre de valeurs \"NaN\" par colonne\n",
    "print(\"\\nNombre de valeurs Nan :\\n\\n\", df.isna().sum())"
   ]
  },
  {
   "cell_type": "markdown",
   "metadata": {},
   "source": [
    "### Création du DataFrame Achats"
   ]
  },
  {
   "cell_type": "code",
   "execution_count": 118,
   "metadata": {},
   "outputs": [
    {
     "name": "stdout",
     "output_type": "stream",
     "text": [
      "                   event_time event_type  product_id          category_id                category_code    brand   price    user_id                          user_session\n",
      "162 2019-10-01 00:02:14+00:00   purchase     1004856  2053013555631882655       electronics.smartphone  samsung  130.76  543272936  8187d148-3c41-46d4-b0c0-9c08cd9dc564\n",
      "308 2019-10-01 00:04:37+00:00   purchase     1002532  2053013555631882655       electronics.smartphone    apple  642.69  551377651  3c80f0d6-e9ec-4181-8c5c-837a30be2d68\n",
      "442 2019-10-01 00:07:07+00:00   purchase    13800054  2053013557418656265    furniture.bathroom.toilet  santeri   54.42  555332717  1dea3ee2-2ded-42e8-8e7a-4e2ad6ae942f\n",
      "574 2019-10-01 00:09:26+00:00   purchase     4804055  2053013554658804075  electronics.audio.headphone    apple  189.91  524601178  2af9b570-0942-4dcd-8f25-4d84fba82553\n",
      "603 2019-10-01 00:09:54+00:00   purchase     4804056  2053013554658804075  electronics.audio.headphone    apple  161.98  551377651  3c80f0d6-e9ec-4181-8c5c-837a30be2d68\n"
     ]
    }
   ],
   "source": [
    "# Création du DataFrame Achats (avec les évènements précédents l'achat)\n",
    "purchases = df[df['event_type'] == 'purchase']\n",
    "print(purchases.head())"
   ]
  },
  {
   "cell_type": "markdown",
   "metadata": {},
   "source": [
    "## Exploration des données"
   ]
  },
  {
   "cell_type": "markdown",
   "metadata": {},
   "source": [
    "### Evènements avant achat"
   ]
  },
  {
   "cell_type": "code",
   "execution_count": null,
   "metadata": {},
   "outputs": [],
   "source": []
  },
  {
   "cell_type": "markdown",
   "metadata": {},
   "source": [
    "### Produit le plus acheté basé sur les achats précédents (TODO)"
   ]
  },
  {
   "cell_type": "code",
   "execution_count": null,
   "metadata": {},
   "outputs": [],
   "source": []
  },
  {
   "cell_type": "markdown",
   "metadata": {},
   "source": [
    "## Recommandation de Produits"
   ]
  },
  {
   "cell_type": "code",
   "execution_count": 119,
   "metadata": {},
   "outputs": [],
   "source": [
    "# Le but est de recommander des produits que l'utilisateur serait susceptible d'acheter.\n",
    "\n",
    "# Filtrage Collaboratif"
   ]
  },
  {
   "cell_type": "markdown",
   "metadata": {},
   "source": [
    "## Prédiction des ventes"
   ]
  },
  {
   "cell_type": "code",
   "execution_count": null,
   "metadata": {},
   "outputs": [],
   "source": []
  },
  {
   "cell_type": "markdown",
   "metadata": {},
   "source": [
    "## Modélisations de clients types (Segmentation)"
   ]
  },
  {
   "cell_type": "markdown",
   "metadata": {},
   "source": [
    "#### Création du dataframe User"
   ]
  },
  {
   "cell_type": "code",
   "execution_count": 120,
   "metadata": {},
   "outputs": [
    {
     "name": "stdout",
     "output_type": "stream",
     "text": [
      "     user_id  total_spent  total_purchases  total_views  unique_categories_viewed  unique_products_viewed  total_sessions\n",
      "0  433754231       321.73                1           73                         1                      24               3\n",
      "1  437371552       358.29                2            6                         1                       2               1\n",
      "2  451971397       199.17                1            3                         2                       2               2\n",
      "3  453705583       141.57                1            7                         1                       2               2\n",
      "4  457360398        51.46                1           13                         1                       7               1\n"
     ]
    }
   ],
   "source": [
    "# Montant total dépensé par utilisateur\n",
    "total_spent = df[df['event_type'] == 'purchase'].groupby('user_id')['price'].sum().reset_index()\n",
    "total_spent.columns = ['user_id', 'total_spent']\n",
    "\n",
    "# Nombre total d'achats par utilisateur\n",
    "total_purchases = df[df['event_type'] == 'purchase'].groupby('user_id')['product_id'].count().reset_index()\n",
    "total_purchases.columns = ['user_id', 'total_purchases']\n",
    "\n",
    "# Nombre total de vues par utilisateur\n",
    "total_views = df[df['event_type'] == 'view'].groupby('user_id')['product_id'].count().reset_index()\n",
    "total_views.columns = ['user_id', 'total_views']\n",
    "\n",
    "# Nombre de catégories uniques vues par utilisateur\n",
    "unique_categories = df.groupby('user_id')['category_code'].nunique().reset_index()\n",
    "unique_categories.columns = ['user_id', 'unique_categories_viewed']\n",
    "\n",
    "# Nombre de produits uniques vus par utilisateur\n",
    "unique_products = df.groupby('user_id')['product_id'].nunique().reset_index()\n",
    "unique_products.columns = ['user_id', 'unique_products_viewed']\n",
    "\n",
    "# Nombre total de sessions\n",
    "total_sessions = df.groupby('user_id')['user_session'].nunique().reset_index()\n",
    "total_sessions.columns = ['user_id', 'total_sessions']\n",
    "\n",
    "\n",
    "# Création du DataFrame utilisateur\n",
    "user_df = total_spent.merge(total_purchases, on='user_id').merge(total_views, on='user_id').merge(unique_categories, on='user_id').merge(unique_products, on='user_id').merge(total_sessions, on='user_id')\n",
    "\n",
    "print(user_df.head())"
   ]
  },
  {
   "cell_type": "markdown",
   "metadata": {},
   "source": [
    "#### Normalisation des données"
   ]
  },
  {
   "cell_type": "code",
   "execution_count": 121,
   "metadata": {},
   "outputs": [
    {
     "name": "stdout",
     "output_type": "stream",
     "text": [
      "   total_spent  total_purchases  total_views  unique_categories_viewed  unique_products_viewed  total_sessions\n",
      "0    -0.231242        -0.339366     4.131854                 -0.401797                3.072500        0.391533\n",
      "1    -0.191096         0.433525    -0.275972                 -0.401797               -0.392859       -0.610808\n",
      "2    -0.365822        -0.339366    -0.473337                  0.661733               -0.392859       -0.109638\n",
      "3    -0.429072        -0.339366    -0.210183                 -0.401797               -0.392859       -0.109638\n",
      "4    -0.528019        -0.339366     0.184547                 -0.401797                0.394722       -0.610808\n"
     ]
    }
   ],
   "source": [
    "from sklearn.preprocessing import StandardScaler\n",
    "\n",
    "scaler = StandardScaler()\n",
    "\n",
    "# Normalisation des données\n",
    "user_df_scaled = scaler.fit_transform(user_df.drop('user_id', axis=1))\n",
    "\n",
    "# Remettre les données normalisées dans un DataFrame\n",
    "user_df_scaled = pd.DataFrame(user_df_scaled, columns=user_df.columns[1:])\n",
    "\n",
    "\n",
    "print(user_df_scaled.head())"
   ]
  },
  {
   "cell_type": "markdown",
   "metadata": {},
   "source": [
    "#### Segmentation avec K-means"
   ]
  },
  {
   "cell_type": "code",
   "execution_count": 122,
   "metadata": {},
   "outputs": [
    {
     "data": {
      "image/png": "[encoded data removed]",
      "text/plain": [
       "<Figure size 800x600 with 1 Axes>"
      ]
     },
     "metadata": {},
     "output_type": "display_data"
    }
   ],
   "source": [
    "from sklearn.cluster import KMeans\n",
    "import matplotlib.pyplot as plt\n",
    "\n",
    "# Tester plusieurs valeurs de K\n",
    "inertia = []\n",
    "K = range(1, 10)\n",
    "for k in K:\n",
    "    kmeans = KMeans(n_clusters=k, random_state=42)\n",
    "    kmeans.fit(user_df_scaled)\n",
    "    inertia.append(kmeans.inertia_)\n",
    "\n",
    "# Tracer la courbe du coude\n",
    "plt.figure(figsize=(8, 6))\n",
    "plt.plot(K, inertia, 'bx-')\n",
    "plt.xlabel('Nombre de clusters (K)')\n",
    "plt.ylabel('Inertia')\n",
    "plt.title('Méthode du coude pour trouver le K optimal')\n",
    "plt.show()\n"
   ]
  },
  {
   "cell_type": "code",
   "execution_count": 128,
   "metadata": {},
   "outputs": [
    {
     "name": "stdout",
     "output_type": "stream",
     "text": [
      "         total_spent  total_purchases  total_views  unique_categories_viewed  unique_products_viewed  total_sessions\n",
      "cluster                                                                                                             \n",
      "0         394.692977         1.157184     4.989190                  1.108319                2.310058        1.497553\n",
      "1         500.951512         2.050403    69.219758                  3.913306               30.288306        7.556452\n",
      "2        2149.810232         3.781411    13.341652                  1.377797                4.951807        3.318417\n",
      "3        8330.350854        13.439024    40.865854                  2.207317               10.756098        9.219512\n",
      "4         336.932433         1.391922    21.498896                  2.123698                9.562638        3.914800\n"
     ]
    }
   ],
   "source": [
    "optimal_k = 5 # Le coude est à K=3\n",
    "kmeans = KMeans(n_clusters=optimal_k, random_state=42)\n",
    "user_df['cluster'] = kmeans.fit_predict(user_df_scaled)\n",
    "\n",
    "\n",
    "cluster_analysis = user_df.drop(columns=['user_id']).groupby('cluster').mean()\n",
    "print(\"\\nMoyenne selon les clusters :\\n\\n\",cluster_analysis)\n",
    "\n",
    "\n",
    "\n"
   ]
  }
 ],
 "metadata": {
  "kernelspec": {
   "display_name": "Python 3",
   "language": "python",
   "name": "python3"
  },
  "language_info": {
   "codemirror_mode": {
    "name": "ipython",
    "version": 3
   },
   "file_extension": ".py",
   "mimetype": "text/x-python",
   "name": "python",
   "nbconvert_exporter": "python",
   "pygments_lexer": "ipython3",
   "version": "3.13.0"
  }
 },
 "nbformat": 4,
 "nbformat_minor": 2
}
