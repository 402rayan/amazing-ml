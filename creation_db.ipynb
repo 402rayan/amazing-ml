{
 "cells": [
  {
   "cell_type": "code",
   "execution_count": null,
   "metadata": {},
   "outputs": [],
   "source": [
    "import pandas as pd # Pour manipuler des dataframes\n",
    "import numpy as np # Pour manipuler des arrays\n",
    "import matplotlib.pyplot as plt # Pour afficher des graphiques\n",
    "import seaborn as sns # Pour améliorer l'affichage des graphiques\n",
    "import duckdb # Pour manipuler des bases de données\n",
    "from datetime import datetime # Pour manipuler des dates"
   ]
  },
  {
   "cell_type": "markdown",
   "metadata": {},
   "source": [
    "## LECTURE + INSERTION BDD"
   ]
  },
  {
   "cell_type": "code",
   "execution_count": null,
   "metadata": {},
   "outputs": [],
   "source": [
    "# Connexion ou création de la base de données\n",
    "con = duckdb.connect(\"my_database.duckdb\")\n",
    "\n",
    "# Liste des fichiers Parquet à insérer\n",
    "files = [\n",
    "    'data/2019-Oct.parquet',\n",
    "    'data/2019-Nov.parquet',\n",
    "    'data/2019-Dec.parquet',\n",
    "    'data/2020-Jan.parquet',\n",
    "    'data/2020-Feb.parquet',\n",
    "    'data/2020-Mar.parquet',\n",
    "    'data/2020-Apr.parquet'\n",
    "]\n",
    "\n",
    "# Créer la table si elle n'existe pas\n",
    "con.execute(\"\"\"\n",
    "    CREATE TABLE IF NOT EXISTS data AS SELECT * FROM parquet_scan('{}') WHERE 1=0\n",
    "\"\"\".format(files[0]))\n",
    "\n",
    "# Insérer les fichiers un par un\n",
    "for file in files:\n",
    "    print(f\"Inserting data from {file}, starting time : {datetime.now()}\")\n",
    "    con.execute(f\"\"\"\n",
    "        INSERT INTO data SELECT * FROM parquet_scan('{file}');\n",
    "    \"\"\")\n",
    "\n",
    "print(\"Data successfully inserted!\")\n",
    "\n",
    "# Vérification (optionnel)\n",
    "sample_data = con.execute(\"SELECT * FROM data LIMIT 5\").fetchall()\n",
    "print(\"Sample Data:\", sample_data)\n",
    "\n",
    "# Fermer la connexion\n",
    "con.close()"
   ]
  },
  {
   "cell_type": "markdown",
   "metadata": {},
   "source": [
    "## NETTOYAGE"
   ]
  },
  {
   "cell_type": "markdown",
   "metadata": {},
   "source": [
    "Nettoyage selon plusieurs règles:\n",
    "- Suppression de toutes les lignes où brand = 'None' ou NULL, (50 000 000 lignes)"
   ]
  },
  {
   "cell_type": "code",
   "execution_count": null,
   "metadata": {},
   "outputs": [],
   "source": [
    "import duckdb\n",
    "\n",
    "# Connexion à la base de données\n",
    "con = duckdb.connect(\"my_database.duckdb\")\n",
    "\n",
    "# Comptage des lignes initiales dans la table 'data'\n",
    "initial_count = con.execute(\"SELECT COUNT(*) FROM data\").fetchall()[0][0]\n",
    "print(f\"Initial number of rows: {initial_count}\")\n",
    "\n",
    "# Créer une table temporaire sans les lignes à supprimer (celles qui ont 'brand' NULL ou 'None')\n",
    "con.execute(\"\"\"\n",
    "    DELETE FROM data\n",
    "    WHERE (brand IS NULL OR brand = 'None');\n",
    "\"\"\")\n",
    "\n",
    "# Comptage des lignes restantes dans la table temporaire\n",
    "final_count = con.execute(\"SELECT COUNT(*) FROM data\").fetchall()[0][0]\n",
    "\n",
    "# Calcul du nombre de lignes supprimées\n",
    "deleted_count = initial_count - final_count\n",
    "\n",
    "# Afficher le nombre de lignes supprimées\n",
    "print(f\"Number of rows deleted: {deleted_count}\")\n",
    "\n",
    "# Fermer la connexion\n",
    "con.close()\n"
   ]
  },
  {
   "cell_type": "markdown",
   "metadata": {},
   "source": [
    "## Création de la table User"
   ]
  },
  {
   "cell_type": "code",
   "execution_count": null,
   "metadata": {},
   "outputs": [],
   "source": [
    "# Connexion à la base de données\n",
    "con = duckdb.connect(\"my_database.duckdb\")\n",
    "\n",
    "\n",
    "# Créer une table 'Utilisateur' avec les informations agrégées\n",
    "con.execute(\"\"\"\n",
    "    CREATE TABLE Utilisateur AS\n",
    "    SELECT\n",
    "        user_id AS identifiant_utilisateur,\n",
    "        -- Calcul du total dépensé par l'utilisateur\n",
    "        SUM(CASE WHEN price IS NOT NULL THEN price ELSE 0 END) AS total_depense,\n",
    "        \n",
    "        -- Calcul du nombre total d'achats effectués\n",
    "        COUNT(DISTINCT CASE WHEN price > 0 THEN user_session END) AS nombre_total_achats,\n",
    "        \n",
    "        -- Calcul du nombre total de vues effectuées (par session)\n",
    "        COUNT(DISTINCT CASE WHEN price IS NULL THEN user_session END) AS nombre_total_vues,\n",
    "        \n",
    "        -- Calcul du nombre de catégories uniques vues\n",
    "        COUNT(DISTINCT category_code) AS categories_uniques_vues,\n",
    "        \n",
    "        -- Calcul du nombre de produits uniques vus\n",
    "        COUNT(DISTINCT product_id) AS produits_uniques_vus,\n",
    "        \n",
    "        -- Calcul du nombre total de sessions de l'utilisateur\n",
    "        COUNT(DISTINCT user_session) AS total_sessions,\n",
    "        \n",
    "        -- Calcul de l'achat moyen\n",
    "        AVG(CASE WHEN price > 0 THEN price ELSE NULL END) AS achat_moyen,\n",
    "        \n",
    "        -- Vérifier si l'utilisateur a acheté un ebook (dans category_code)\n",
    "        MAX(CASE WHEN category_code = 'computer.ebooks' THEN 1 ELSE 0 END) AS a_achete_des_ebooks\n",
    "        \n",
    "    FROM\n",
    "        data\n",
    "    GROUP BY\n",
    "        user_id;\n",
    "\"\"\")\n",
    "\n",
    "# Affichage du nombre de lignes insérées dans la nouvelle table 'Utilisateur'\n",
    "nombre_lignes_nouvelle_table = con.execute(\"SELECT COUNT(*) FROM Utilisateur\").fetchall()[0][0]\n",
    "print(f\"Nombre de lignes insérées dans la table Utilisateur : {nombre_lignes_nouvelle_table}\")\n",
    "\n",
    "# Fermer la connexion\n",
    "con.close()\n"
   ]
  }
 ],
 "metadata": {
  "kernelspec": {
   "display_name": "Python 3",
   "language": "python",
   "name": "python3"
  },
  "language_info": {
   "codemirror_mode": {
    "name": "ipython",
    "version": 3
   },
   "file_extension": ".py",
   "mimetype": "text/x-python",
   "name": "python",
   "nbconvert_exporter": "python",
   "pygments_lexer": "ipython3",
   "version": "3.12.3"
  }
 },
 "nbformat": 4,
 "nbformat_minor": 2
}
