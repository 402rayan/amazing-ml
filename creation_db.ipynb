{
 "cells": [
  {
   "cell_type": "code",
   "execution_count": 1,
   "metadata": {},
   "outputs": [],
   "source": [
    "import pandas as pd # Pour manipuler des dataframes\n",
    "import numpy as np # Pour manipuler des arrays\n",
    "import matplotlib.pyplot as plt # Pour afficher des graphiques\n",
    "import seaborn as sns # Pour améliorer l'affichage des graphiques\n",
    "import duckdb # Pour manipuler des bases de données\n",
    "from datetime import datetime # Pour manipuler des dates"
   ]
  },
  {
   "cell_type": "markdown",
   "metadata": {},
   "source": [
    "# 1. Créations"
   ]
  },
  {
   "cell_type": "markdown",
   "metadata": {},
   "source": [
    "## 1.1 LECTURE + INSERTION BDD"
   ]
  },
  {
   "cell_type": "code",
   "execution_count": 2,
   "metadata": {},
   "outputs": [
    {
     "name": "stdout",
     "output_type": "stream",
     "text": [
      "Inserting data from data/2019-Oct.parquet, starting time : 2024-12-04 12:30:59.282672\n"
     ]
    },
    {
     "data": {
      "application/vnd.jupyter.widget-view+json": {
       "model_id": "a0850b55bd8e44fb9774cc66a7d41815",
       "version_major": 2,
       "version_minor": 0
      },
      "text/plain": [
       "FloatProgress(value=0.0, layout=Layout(width='auto'), style=ProgressStyle(bar_color='black'))"
      ]
     },
     "metadata": {},
     "output_type": "display_data"
    },
    {
     "name": "stdout",
     "output_type": "stream",
     "text": [
      "Inserting data from data/2019-Nov.parquet, starting time : 2024-12-04 12:31:13.120541\n"
     ]
    },
    {
     "data": {
      "application/vnd.jupyter.widget-view+json": {
       "model_id": "206383e81616482c81bba3845033ce70",
       "version_major": 2,
       "version_minor": 0
      },
      "text/plain": [
       "FloatProgress(value=0.0, layout=Layout(width='auto'), style=ProgressStyle(bar_color='black'))"
      ]
     },
     "metadata": {},
     "output_type": "display_data"
    },
    {
     "name": "stdout",
     "output_type": "stream",
     "text": [
      "Inserting data from data/2019-Dec.parquet, starting time : 2024-12-04 12:31:41.595273\n"
     ]
    },
    {
     "data": {
      "application/vnd.jupyter.widget-view+json": {
       "model_id": "a4a2177baea548de8e37989019f2dd45",
       "version_major": 2,
       "version_minor": 0
      },
      "text/plain": [
       "FloatProgress(value=0.0, layout=Layout(width='auto'), style=ProgressStyle(bar_color='black'))"
      ]
     },
     "metadata": {},
     "output_type": "display_data"
    },
    {
     "name": "stdout",
     "output_type": "stream",
     "text": [
      "Inserting data from data/2020-Jan.parquet, starting time : 2024-12-04 12:32:22.898200\n"
     ]
    },
    {
     "data": {
      "application/vnd.jupyter.widget-view+json": {
       "model_id": "a22d508c2fea438c87af93497452e287",
       "version_major": 2,
       "version_minor": 0
      },
      "text/plain": [
       "FloatProgress(value=0.0, layout=Layout(width='auto'), style=ProgressStyle(bar_color='black'))"
      ]
     },
     "metadata": {},
     "output_type": "display_data"
    },
    {
     "name": "stdout",
     "output_type": "stream",
     "text": [
      "Inserting data from data/2020-Feb.parquet, starting time : 2024-12-04 12:33:11.147211\n"
     ]
    },
    {
     "data": {
      "application/vnd.jupyter.widget-view+json": {
       "model_id": "8dbd6ca335364d38880c99b34078c17b",
       "version_major": 2,
       "version_minor": 0
      },
      "text/plain": [
       "FloatProgress(value=0.0, layout=Layout(width='auto'), style=ProgressStyle(bar_color='black'))"
      ]
     },
     "metadata": {},
     "output_type": "display_data"
    },
    {
     "name": "stdout",
     "output_type": "stream",
     "text": [
      "Inserting data from data/2020-Mar.parquet, starting time : 2024-12-04 12:34:17.232461\n"
     ]
    },
    {
     "data": {
      "application/vnd.jupyter.widget-view+json": {
       "model_id": "6d4bd31b7a5e40f1bd39a70d6bd20a01",
       "version_major": 2,
       "version_minor": 0
      },
      "text/plain": [
       "FloatProgress(value=0.0, layout=Layout(width='auto'), style=ProgressStyle(bar_color='black'))"
      ]
     },
     "metadata": {},
     "output_type": "display_data"
    },
    {
     "name": "stdout",
     "output_type": "stream",
     "text": [
      "Inserting data from data/2020-Apr.parquet, starting time : 2024-12-04 12:34:46.828695\n"
     ]
    },
    {
     "data": {
      "application/vnd.jupyter.widget-view+json": {
       "model_id": "8d4943a56f8741ac960d057ec1b24592",
       "version_major": 2,
       "version_minor": 0
      },
      "text/plain": [
       "FloatProgress(value=0.0, layout=Layout(width='auto'), style=ProgressStyle(bar_color='black'))"
      ]
     },
     "metadata": {},
     "output_type": "display_data"
    },
    {
     "name": "stdout",
     "output_type": "stream",
     "text": [
      "Data successfully inserted!\n",
      "Sample Data: [('2019-10-01 00:00:00 UTC', 'view', 44600062, 2103807459595387724, None, 'shiseido', 35.79, 541312140, '72d76fde-8bb3-4e00-8c23-a032dfed738c'), ('2019-10-01 00:00:00 UTC', 'view', 3900821, 2053013552326770905, 'appliances.environment.water_heater', 'aqua', 33.2, 554748717, '9333dfbd-b87a-4708-9857-6336556b0fcc'), ('2019-10-01 00:00:01 UTC', 'view', 17200506, 2053013559792632471, 'furniture.living_room.sofa', None, 543.1, 519107250, '566511c2-e2e3-422b-b695-cf8e6e792ca8'), ('2019-10-01 00:00:01 UTC', 'view', 1307067, 2053013558920217191, 'computers.notebook', 'lenovo', 251.74, 550050854, '7c90fc70-0e80-4590-96f3-13c02c18c713'), ('2019-10-01 00:00:04 UTC', 'view', 1004237, 2053013555631882655, 'electronics.smartphone', 'apple', 1081.98, 535871217, 'c6bd7419-2748-4c56-95b4-8cec9ff8b80d')]\n"
     ]
    }
   ],
   "source": [
    "# Connexion ou création de la base de données\n",
    "con = duckdb.connect(\"my_database.duckdb\")\n",
    "\n",
    "# Liste des fichiers Parquet à insérer\n",
    "files = [\n",
    "    'data/2019-Oct.parquet',\n",
    "    'data/2019-Nov.parquet',\n",
    "    'data/2019-Dec.parquet',\n",
    "    'data/2020-Jan.parquet',\n",
    "    'data/2020-Feb.parquet',\n",
    "    'data/2020-Mar.parquet',\n",
    "    'data/2020-Apr.parquet'\n",
    "]\n",
    "\n",
    "# Créer la table si elle n'existe pas\n",
    "con.execute(\"\"\"\n",
    "    CREATE TABLE IF NOT EXISTS data AS SELECT * FROM parquet_scan('{}') WHERE 1=0\n",
    "\"\"\".format(files[0]))\n",
    "\n",
    "# Insérer les fichiers un par un\n",
    "for file in files:\n",
    "    print(f\"Inserting data from {file}, starting time : {datetime.now()}\")\n",
    "    con.execute(f\"\"\"\n",
    "        INSERT INTO data SELECT * FROM parquet_scan('{file}');\n",
    "    \"\"\")\n",
    "\n",
    "print(\"Data successfully inserted!\")\n",
    "\n",
    "# Vérification (optionnel)\n",
    "sample_data = con.execute(\"SELECT * FROM data LIMIT 5\").fetchall()\n",
    "print(\"Sample Data:\", sample_data)\n",
    "\n",
    "# Fermer la connexion\n",
    "con.close()"
   ]
  },
  {
   "cell_type": "markdown",
   "metadata": {},
   "source": [
    "## 1.2 NETTOYAGE"
   ]
  },
  {
   "cell_type": "markdown",
   "metadata": {},
   "source": [
    "Nettoyage selon plusieurs règles:\n",
    "- Suppression de toutes les lignes où brand = 'None' ou NULL, (50 000 000 lignes)"
   ]
  },
  {
   "cell_type": "code",
   "execution_count": 3,
   "metadata": {},
   "outputs": [
    {
     "name": "stdout",
     "output_type": "stream",
     "text": [
      "Initial number of rows: 375484362\n"
     ]
    },
    {
     "data": {
      "application/vnd.jupyter.widget-view+json": {
       "model_id": "29f1a4f696f74664846d998cb39b1e29",
       "version_major": 2,
       "version_minor": 0
      },
      "text/plain": [
       "FloatProgress(value=0.0, layout=Layout(width='auto'), style=ProgressStyle(bar_color='black'))"
      ]
     },
     "metadata": {},
     "output_type": "display_data"
    },
    {
     "name": "stdout",
     "output_type": "stream",
     "text": [
      "Number of rows deleted: 50752718\n"
     ]
    }
   ],
   "source": [
    "import duckdb\n",
    "\n",
    "# Connexion à la base de données\n",
    "con = duckdb.connect(\"my_database.duckdb\")\n",
    "\n",
    "# Comptage des lignes initiales dans la table 'data'\n",
    "initial_count = con.execute(\"SELECT COUNT(*) FROM data\").fetchall()[0][0]\n",
    "print(f\"Initial number of rows: {initial_count}\")\n",
    "\n",
    "# Créer une table temporaire sans les lignes à supprimer (celles qui ont 'brand' NULL ou 'None')\n",
    "con.execute(\"\"\"\n",
    "    DELETE FROM data\n",
    "    WHERE (brand IS NULL OR brand = 'None');\n",
    "\"\"\")\n",
    "\n",
    "# Comptage des lignes restantes dans la table temporaire\n",
    "final_count = con.execute(\"SELECT COUNT(*) FROM data\").fetchall()[0][0]\n",
    "\n",
    "# Calcul du nombre de lignes supprimées\n",
    "deleted_count = initial_count - final_count\n",
    "\n",
    "# Afficher le nombre de lignes supprimées\n",
    "print(f\"Number of rows deleted: {deleted_count}\")\n",
    "\n",
    "# Fermer la connexion\n",
    "con.close()\n"
   ]
  },
  {
   "cell_type": "markdown",
   "metadata": {},
   "source": [
    "## 1.3 Création de la table User"
   ]
  },
  {
   "cell_type": "code",
   "execution_count": null,
   "metadata": {},
   "outputs": [
    {
     "data": {
      "application/vnd.jupyter.widget-view+json": {
       "model_id": "e209367477224cac978c3a37286533ba",
       "version_major": 2,
       "version_minor": 0
      },
      "text/plain": [
       "FloatProgress(value=0.0, layout=Layout(width='auto'), style=ProgressStyle(bar_color='black'))"
      ]
     },
     "metadata": {},
     "output_type": "display_data"
    }
   ],
   "source": [
    "import duckdb\n",
    "\n",
    "# Connexion à la base de données\n",
    "con = duckdb.connect(\"my_database.duckdb\")\n",
    "\n",
    "# Supprimer la table 'Utilisateur' si elle existe déjà\n",
    "con.execute(\"DROP TABLE IF EXISTS Utilisateur\")\n",
    "\n",
    "# Créer une table 'Utilisateur' avec les informations agrégées\n",
    "con.execute(\"\"\"\n",
    "    CREATE TABLE Utilisateur AS\n",
    "    SELECT\n",
    "        user_id AS identifiant_utilisateur,\n",
    "        \n",
    "        -- Calcul du total dépensé par l'utilisateur (en filtrant par les événements de type 'purchase')\n",
    "        SUM(CASE WHEN price IS NOT NULL AND event_type = 'purchase' THEN price ELSE 0 END) AS total_depense,\n",
    "        \n",
    "        -- Calcul du nombre total d'achats effectués (seulement les événements de type 'purchase')\n",
    "        COUNT(DISTINCT CASE WHEN event_type = 'purchase' AND price > 0 THEN user_session END) AS nombre_total_achats,\n",
    "        \n",
    "        -- Calcul du nombre total de vues effectuées (par session)\n",
    "        COUNT(DISTINCT CASE WHEN event_type = 'view' AND price IS NULL THEN user_session END) AS nombre_total_vues,\n",
    "        \n",
    "        -- Calcul du nombre de catégories uniques vues\n",
    "        COUNT(DISTINCT category_code) AS categories_uniques_vues,\n",
    "        \n",
    "        -- Calcul du nombre de produits uniques vus\n",
    "        COUNT(DISTINCT product_id) AS produits_uniques_vus,\n",
    "        \n",
    "        -- Calcul du nombre total de sessions de l'utilisateur\n",
    "        COUNT(DISTINCT user_session) AS total_sessions,\n",
    "        \n",
    "        -- Calcul de l'achat moyen (seulement pour les événements de type 'purchase')\n",
    "        AVG(CASE WHEN event_type = 'purchase' AND price > 0 THEN price ELSE NULL END) AS achat_moyen,\n",
    "        \n",
    "        -- Vérifier si l'utilisateur a acheté un ebook (dans category_code)\n",
    "        MAX(CASE WHEN category_code = 'computers.ebooks' AND event_type = 'purchase' THEN 1 ELSE 0 END) AS a_achete_des_ebooks\n",
    "        \n",
    "    FROM\n",
    "        data\n",
    "    GROUP BY\n",
    "        user_id\n",
    "    LIMIT 10;  -- Limite de 10 utilisateurs pour l'exemple, à enlever si on veut tous les utilisateurs\n",
    "\"\"\")\n",
    "\n",
    "# Affichage du nombre de lignes insérées dans la nouvelle table 'Utilisateur'\n",
    "nombre_lignes_nouvelle_table = con.execute(\"SELECT COUNT(*) FROM Utilisateur\").fetchall()[0][0]\n",
    "print(f\"Nombre de lignes insérées dans la table Utilisateur : {nombre_lignes_nouvelle_table}\")\n",
    "\n",
    "# Fermer la connexion\n",
    "con.close()\n"
   ]
  },
  {
   "cell_type": "code",
   "execution_count": null,
   "metadata": {},
   "outputs": [
    {
     "data": {
      "application/vnd.jupyter.widget-view+json": {
       "model_id": "6808fa83d11440c89fd1434720dd82a7",
       "version_major": 2,
       "version_minor": 0
      },
      "text/plain": [
       "FloatProgress(value=0.0, layout=Layout(width='auto'), style=ProgressStyle(bar_color='black'))"
      ]
     },
     "metadata": {},
     "output_type": "display_data"
    },
    {
     "name": "stdout",
     "output_type": "stream",
     "text": [
      "Nombre de lignes insérées dans la table Utilisateur : 13984736\n"
     ]
    }
   ],
   "source": [
    "import duckdb\n",
    "\n",
    "# Connexion à la base de données\n",
    "con = duckdb.connect(\"my_database.duckdb\")\n",
    "\n",
    "# Supprimer la table 'Utilisateur' si elle existe déjà\n",
    "con.execute(\"DROP TABLE IF EXISTS Utilisateur\")\n",
    "\n",
    "# Créer la table 'Utilisateur' avec les résultats agrégés\n",
    "con.execute(\"\"\"\n",
    "    CREATE TABLE Utilisateur AS\n",
    "    SELECT\n",
    "        d.user_id AS identifiant_utilisateur,\n",
    "\n",
    "        -- Calcul du total dépensé par l'utilisateur (en filtrant par les événements de type 'purchase')\n",
    "        SUM(CASE WHEN d.price IS NOT NULL AND d.event_type = 'purchase' THEN d.price ELSE 0 END) AS total_depense,\n",
    "\n",
    "        -- Calcul du nombre total d'achats effectués (seulement les événements de type 'purchase')\n",
    "        COUNT(DISTINCT CASE WHEN d.event_type = 'purchase' AND d.price > 0 THEN d.user_session END) AS nombre_total_achats,\n",
    "\n",
    "        -- Calcul du nombre de catégories uniques vues\n",
    "        COUNT(DISTINCT d.category_code) AS categories_uniques_vues,\n",
    "\n",
    "        -- Calcul du nombre de produits uniques vus\n",
    "        COUNT(DISTINCT d.product_id) AS produits_uniques_vus,\n",
    "\n",
    "        -- Calcul du nombre total de sessions de l'utilisateur\n",
    "        COUNT(DISTINCT d.user_session) AS total_sessions,\n",
    "\n",
    "        -- Calcul de l'achat moyen (seulement pour les événements de type 'purchase')\n",
    "        COALESCE(AVG(CASE WHEN d.event_type = 'purchase' AND d.price > 0 THEN d.price ELSE NULL END), 0) AS achat_moyen,\n",
    "\n",
    "        -- Vérifier si l'utilisateur a acheté un ebook (dans category_code)\n",
    "        MAX(CASE WHEN d.category_code = 'computers.ebooks' AND d.event_type = 'purchase' THEN 1 ELSE 0 END) AS a_achete_des_ebooks\n",
    "\n",
    "    FROM\n",
    "        data d\n",
    "    GROUP BY\n",
    "        d.user_id;\n",
    "\"\"\")\n",
    "\n",
    "# Affichage du nombre de lignes insérées dans la table 'Utilisateur'\n",
    "nombre_lignes_nouvelle_table = con.execute(\"SELECT COUNT(*) FROM Utilisateur\").fetchall()[0][0]\n",
    "print(f\"Nombre de lignes insérées dans la table Utilisateur : {nombre_lignes_nouvelle_table}\")\n",
    "\n",
    "# Fermer la connexion\n",
    "con.close()\n"
   ]
  },
  {
   "cell_type": "markdown",
   "metadata": {},
   "source": [
    "## 1.4 Ajout de la colonne achat ebook amazon"
   ]
  },
  {
   "cell_type": "code",
   "execution_count": 8,
   "metadata": {},
   "outputs": [
    {
     "data": {
      "application/vnd.jupyter.widget-view+json": {
       "model_id": "f6bc9347ebf34df59e1ee86804a9b763",
       "version_major": 2,
       "version_minor": 0
      },
      "text/plain": [
       "FloatProgress(value=0.0, layout=Layout(width='auto'), style=ProgressStyle(bar_color='black'))"
      ]
     },
     "metadata": {},
     "output_type": "display_data"
    },
    {
     "name": "stdout",
     "output_type": "stream",
     "text": [
      "Nombre d'utilisateurs ayant acheté des ebooks Amazon : 142\n"
     ]
    }
   ],
   "source": [
    "import duckdb\n",
    "\n",
    "# Connexion à la base de données\n",
    "con = duckdb.connect(\"my_database.duckdb\")\n",
    "\n",
    "# Ajouter la colonne 'a_achete_des_ebooks_amazon' à la table 'Utilisateur'\n",
    "con.execute(\"\"\"\n",
    "    ALTER TABLE Utilisateur ADD COLUMN IF NOT EXISTS a_achete_des_ebooks_amazon INTEGER DEFAULT 0;\n",
    "\"\"\")\n",
    "\n",
    "# Mise à jour de la colonne 'a_achete_des_ebooks_amazon' pour les utilisateurs ayant acheté un ebook de la marque Amazon\n",
    "con.execute(\"\"\"\n",
    "    UPDATE Utilisateur u\n",
    "    SET a_achete_des_ebooks_amazon = (\n",
    "        SELECT MAX(CASE WHEN d.category_code = 'computers.ebooks' AND d.event_type = 'purchase' AND d.brand = 'amazon' THEN 1 ELSE 0 END)\n",
    "        FROM data d\n",
    "        WHERE d.user_id = u.identifiant_utilisateur\n",
    "    );\n",
    "\"\"\")\n",
    "\n",
    "# Affichage du nombre d'utilisateurs ayant acheté des ebooks Amazon\n",
    "nombre_lignes_mise_a_jour_amazon = con.execute(\"SELECT COUNT(*) FROM Utilisateur WHERE a_achete_des_ebooks_amazon = 1\").fetchall()[0][0]\n",
    "print(f\"Nombre d'utilisateurs ayant acheté des ebooks Amazon : {nombre_lignes_mise_a_jour_amazon}\")\n",
    "\n",
    "# Fermer la connexion\n",
    "con.close()\n"
   ]
  },
  {
   "cell_type": "markdown",
   "metadata": {},
   "source": [
    "## 1.5 Création de la table Produit"
   ]
  },
  {
   "cell_type": "code",
   "execution_count": 16,
   "metadata": {},
   "outputs": [
    {
     "data": {
      "application/vnd.jupyter.widget-view+json": {
       "model_id": "e51555341dd44ae69c88c9d5c57b1094",
       "version_major": 2,
       "version_minor": 0
      },
      "text/plain": [
       "FloatProgress(value=0.0, layout=Layout(width='auto'), style=ProgressStyle(bar_color='black'))"
      ]
     },
     "metadata": {},
     "output_type": "display_data"
    },
    {
     "name": "stdout",
     "output_type": "stream",
     "text": [
      "Nombre de lignes insérées dans la table Produit : 14304\n"
     ]
    }
   ],
   "source": [
    "import duckdb\n",
    "\n",
    "# Connexion à la base de données\n",
    "con = duckdb.connect(\"my_database.duckdb\")\n",
    "\n",
    "# Supprimer la table 'Produit' si elle existe déjà\n",
    "con.execute(\"DROP TABLE IF EXISTS Produit;\")\n",
    "\n",
    "# Créer la table 'Produit' avec les informations agrégées\n",
    "con.execute(\"\"\"\n",
    "    CREATE TABLE IF NOT EXISTS Produit AS\n",
    "    SELECT\n",
    "        brand AS marque,\n",
    "        COUNT(DISTINCT product_id) AS nombre_vente,\n",
    "        ANY_VALUE(price) AS prix,\n",
    "        category_code AS code_categorie\n",
    "    FROM\n",
    "        data\n",
    "    WHERE\n",
    "        event_type = 'purchase' AND price > 0\n",
    "    GROUP BY\n",
    "        brand, category_code;\n",
    "\"\"\")\n",
    "\n",
    "# Affichage du nombre de lignes insérées dans la nouvelle table 'Produit'\n",
    "nombre_lignes_nouvelle_table = con.execute(\"SELECT COUNT(*) FROM Produit\").fetchall()[0][0]\n",
    "print(f\"Nombre de lignes insérées dans la table Produit : {nombre_lignes_nouvelle_table}\")\n",
    "\n",
    "# Fermer la connexion\n",
    "con.close()\n"
   ]
  },
  {
   "cell_type": "markdown",
   "metadata": {},
   "source": [
    "# 2. AUTRE"
   ]
  },
  {
   "cell_type": "markdown",
   "metadata": {},
   "source": [
    "## QUERYS"
   ]
  },
  {
   "cell_type": "code",
   "execution_count": 31,
   "metadata": {},
   "outputs": [
    {
     "ename": "ParserException",
     "evalue": "Parser Error: syntax error at or near \"category_code\"",
     "output_type": "error",
     "traceback": [
      "\u001b[1;31m---------------------------------------------------------------------------\u001b[0m",
      "\u001b[1;31mParserException\u001b[0m                           Traceback (most recent call last)",
      "Cell \u001b[1;32mIn[31], line 5\u001b[0m\n\u001b[0;32m      2\u001b[0m con \u001b[38;5;241m=\u001b[39m duckdb\u001b[38;5;241m.\u001b[39mconnect(\u001b[38;5;124m\"\u001b[39m\u001b[38;5;124mmy_database.duckdb\u001b[39m\u001b[38;5;124m\"\u001b[39m)\n\u001b[0;32m      4\u001b[0m \u001b[38;5;66;03m# Charger le fichier Parquet dans un DataFrame Pandas\u001b[39;00m\n\u001b[1;32m----> 5\u001b[0m df \u001b[38;5;241m=\u001b[39m \u001b[43mcon\u001b[49m\u001b[38;5;241;43m.\u001b[39;49m\u001b[43mexecute\u001b[49m\u001b[43m(\u001b[49m\u001b[38;5;124;43m\"\u001b[39;49m\u001b[38;5;124;43mSELECT event_time FROM data where brand = \u001b[39;49m\u001b[38;5;124;43m'\u001b[39;49m\u001b[38;5;124;43mamazon\u001b[39;49m\u001b[38;5;124;43m'\u001b[39;49m\u001b[38;5;124;43m category_code = \u001b[39;49m\u001b[38;5;124;43m'\u001b[39;49m\u001b[38;5;124;43mcomputeurs.ebooks\u001b[39;49m\u001b[38;5;124;43m'\u001b[39;49m\u001b[38;5;124;43m\"\u001b[39;49m\u001b[43m)\u001b[49m\u001b[38;5;241m.\u001b[39mfetchdf()\n\u001b[0;32m      7\u001b[0m \u001b[38;5;66;03m# Afficher les 10 premiers utilisateurs\u001b[39;00m\n\u001b[0;32m      8\u001b[0m \u001b[38;5;28mprint\u001b[39m(df)\n",
      "\u001b[1;31mParserException\u001b[0m: Parser Error: syntax error at or near \"category_code\""
     ]
    }
   ],
   "source": [
    "# Connexion à DuckDB\n",
    "con = duckdb.connect(\"my_database.duckdb\")\n",
    "\n",
    "# Charger le fichier Parquet dans un DataFrame Pandas\n",
    "df = con.execute(\"SELECT event_time FROM data where brand = 'amazon' category_code = 'computeurs.ebooks'\").fetchdf()\n",
    "\n",
    "# Afficher les 10 premiers utilisateurs\n",
    "print(df)\n",
    "\n",
    "# Fermer la connexion\n",
    "con.close()"
   ]
  }
 ],
 "metadata": {
  "kernelspec": {
   "display_name": "Python 3",
   "language": "python",
   "name": "python3"
  },
  "language_info": {
   "codemirror_mode": {
    "name": "ipython",
    "version": 3
   },
   "file_extension": ".py",
   "mimetype": "text/x-python",
   "name": "python",
   "nbconvert_exporter": "python",
   "pygments_lexer": "ipython3",
   "version": "3.11.4"
  }
 },
 "nbformat": 4,
 "nbformat_minor": 2
}
